{
 "cells": [
  {
   "cell_type": "markdown",
   "metadata": {},
   "source": [
    "# Introducción: Un poco de historia del reconocimiento de rostro"
   ]
  },
  {
   "attachments": {},
   "cell_type": "markdown",
   "metadata": {},
   "source": [
    "El problema del reconocimiento de caras ha sido una cuestión sumamente estudiada. El mismo, puede ser entendido como un problema de clasificación. Dada una base de datos con varias imágenes de distintas personas (más de una imagen por persona), determinar si una nueva imagen corresponde a una de las personas de la base de datos o si no se encuentra en la base de datos.  \n",
    " "
   ]
  },
  {
   "cell_type": "markdown",
   "metadata": {},
   "source": [
    "El primer caso exitoso de reconocimiento de rostro fue hecho por Turk y Pentaland en 1991, y es conocido como Eigenfaces. El algoritmo es entrenado a partir de una base de datos con varias imágenes de rostros de distintas personas. Cada imagen es representada por un vector de pesos y estos pesos son obtenidos proyectando la imagen en componentes eigenface. La imagen a ser clasificada es representada por un vector de pesos y comparada con la base de datos. Este es el algoritmo que analizaremos a lo largo de este trabajo. "
   ]
  },
  {
   "cell_type": "markdown",
   "metadata": {},
   "source": [
    "A lo largo de los años, pueden identificarse dos tendencias principales en los algoritmos desarrollados para reconocer rostros (y una tercera tendencia que puede entenderse como un híbrido de las dos anteriores).     \n",
    "Estas tendencias pueden resumirse como: \n",
    "-Algoritmos basados en la apariencia (holísticos):se basan en la totalidad del rostro a ser reconocido.  \n",
    "-Algoritmos basados en rasgos (features): esta técnica se basa en rasgos faciales como la boca, los ojos y las mejillas, así como la relación geométrica entre estos rasgos.  \n"
   ]
  },
  {
   "cell_type": "markdown",
   "metadata": {},
   "source": [
    "Los algoritmos de clasificación más utilizados para resolver el problema del reconocimiento de rostro han sido  PCA (principal component analysis) y LDA (Linear Discriminant Analysis). Eigenfaces y Fisherfaces (otro algoritmo al que nos referirmos en las conclusiones) serían ejemplos de estos, respectivamente (aunque Fisherfaces también utiliza PCA). También se han utilizado métodos bayesianos, entre otros. "
   ]
  },
  {
   "cell_type": "code",
   "execution_count": null,
   "metadata": {},
   "outputs": [],
   "source": []
  }
 ],
 "metadata": {
  "kernelspec": {
   "display_name": "Python 3",
   "language": "python",
   "name": "python3"
  },
  "language_info": {
   "codemirror_mode": {
    "name": "ipython",
    "version": 3
   },
   "file_extension": ".py",
   "mimetype": "text/x-python",
   "name": "python",
   "nbconvert_exporter": "python",
   "pygments_lexer": "ipython3",
   "version": "3.8.3"
  }
 },
 "nbformat": 4,
 "nbformat_minor": 4
}
