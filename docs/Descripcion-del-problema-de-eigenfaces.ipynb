{
 "cells": [
  {
   "cell_type": "markdown",
   "metadata": {},
   "source": [
    "### Descripción de la base de datos\n",
    "\n",
    "La base de datos seleccionada para este proyecto fue la base [The Extended Yale Face Dataset B](http://vision.ucsd.edu/~iskwak/ExtYaleDatabase/ExtYaleB.html) , en específico las versión recortada utilizada en el artículo [Acquiring Linear Subspaces for Face Recognition under Variable Lighting](http://vision.ucsd.edu/~leekc/papers/9pltsIEEE.pdf). Estas versiones recortadas resultan mejores para este tipo de algoritmos pues dentro de la foto sólo aparece la región entre las orejas y de la frente a la barbilla, así evitamos generar ruido innecesario producido por el cabello, ropa o joyería utilizada por la persona a la que se le toma la foto.\n",
    " \n",
    "La manera en que se recolectaron las fotos de este dataset fue con la ayuda de un domo geodésico que tenía varias lámparas alrededor programadas para activarse en distintos momentos en un intervalo de 2 segundos para generar 64 distintas configuraciones de iluminación. En el centro de este domo se sentaba a la persona que se iba a fotografiar y al activarse la secuencia de iluminación se tomaron 64 fotografías de cada persona. Este procedimiento se repitió para 38 personas.\n",
    "\n",
    "Cada fotografía en su versión recortada tiene dimensiones de 168 x 192 pixeles lo que, una vez vectorizada la imagen, resulta en un vector con 32,256 entradas. Multiplicando esto por las 64 fotos de las 38 personas, obtenemos una matriz con aproximadamente 78 millones de entradas."
   ]
  },
  {
   "cell_type": "code",
   "execution_count": null,
   "metadata": {},
   "outputs": [],
   "source": []
  }
 ],
 "metadata": {
  "kernelspec": {
   "display_name": "Python 3",
   "language": "python",
   "name": "python3"
  },
  "language_info": {
   "codemirror_mode": {
    "name": "ipython",
    "version": 3
   },
   "file_extension": ".py",
   "mimetype": "text/x-python",
   "name": "python",
   "nbconvert_exporter": "python",
   "pygments_lexer": "ipython3",
   "version": "3.8.3"
  }
 },
 "nbformat": 4,
 "nbformat_minor": 4
}
