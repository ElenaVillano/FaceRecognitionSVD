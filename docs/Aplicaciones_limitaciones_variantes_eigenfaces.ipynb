{
 "cells": [
  {
   "cell_type": "markdown",
   "metadata": {},
   "source": [
    "## Aplicaciones del algoritmo de Eigenfaces, limitaciones y variantes alternativas."
   ]
  },
  {
   "cell_type": "markdown",
   "metadata": {},
   "source": [
    "Algunas aplicaciones del reconocimiento de rostro están relacionadas a utilizarlo como una alternativa a la “contraseña”, que el usuario debe recordar para acceder a sus distinas aplicaciones. En tiempos de pandemia, donde las personas usan cubreboca de manera constante, puede resultar inconveniente, e incluso peligroso, que las personas tengan que quitarse el cubreboca cada vez que necesiten ser reconocidos por su teléfono inteligente, para destrabar una aplicación. \n",
    "Por eso, una de las implementaciones que nos gustaría desarrollar, en caso de poder extender este trabajo, sería la de probar cuán eficaz es el mismo al enfrentarse a fotos de personas que llevan puesto un cubreboca. Lamentablemente, por cuestiones de tiempo, no hemos podido desarrollar esta aplicación hasta el presente. Sin embargo, por las investigaciones que hemos podido realizar, sospechamos que es probable que el algoritmo de Eigenfaces no clasificaría de manera correcta estas imágenes. \n"
   ]
  },
  {
   "cell_type": "markdown",
   "metadata": {},
   "source": [
    "Uno de los principales desafíos en el reconocimiento de rostros viene dado por las variaciones dadas en posición (perspectiva), gestualidad e iluminación de las caras. El algoritmo de Eigenfaces parece no funcionar muy bien cuando algunos factores de ambiente son variados. \n",
    "Dadas estas limitaciones, nos gustaría mencionar, a modo de conclusión, dos enfoques alternativos que parecen capaces de sobreponerse a estas limitaciones. Estos son el algoritmo Fisherfaces y el enfoque de Tensor SVD. \n"
   ]
  },
  {
   "cell_type": "code",
   "execution_count": 1,
   "metadata": {},
   "outputs": [],
   "source": [
    "### FisherFaces"
   ]
  },
  {
   "cell_type": "markdown",
   "metadata": {},
   "source": [
    "El problema de los cambios de ambiente es enfrentado por otro algoritmo denominado Fisherface. Fisherface parece funcionar bien bajo grandes variaciones de luz (sin importar de qué ángulo esta provenga) y de expresiones faciales. Fisherface utiliza FDA (Fisher Discriminant Analysis), además de PCA. Fisherface tiene un requerimiento computacional similar al de Eigenfaces, pero su tasa de error parece ser menor, para pruebas hechas en la Yale Face Database (Belhumeur, Hespanha, y Kriegman 1997). "
   ]
  },
  {
   "cell_type": "code",
   "execution_count": null,
   "metadata": {},
   "outputs": [],
   "source": []
  }
 ],
 "metadata": {
  "kernelspec": {
   "display_name": "Python 3",
   "language": "python",
   "name": "python3"
  },
  "language_info": {
   "codemirror_mode": {
    "name": "ipython",
    "version": 3
   },
   "file_extension": ".py",
   "mimetype": "text/x-python",
   "name": "python",
   "nbconvert_exporter": "python",
   "pygments_lexer": "ipython3",
   "version": "3.8.3"
  }
 },
 "nbformat": 4,
 "nbformat_minor": 4
}
